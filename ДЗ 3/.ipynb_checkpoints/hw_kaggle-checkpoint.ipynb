{
 "cells": [
  {
   "cell_type": "markdown",
   "metadata": {
    "id": "TK7oX5qdEEYr"
   },
   "source": [
    "# Домашнее задание. Решение конкурса на kaggle.com\n",
    "\n",
    "Это домашнее задание посвящено полноценному решению задачи машинного обучения."
   ]
  },
  {
   "cell_type": "markdown",
   "metadata": {
    "id": "zlB-owfaEEYs"
   },
   "source": [
    "Есть две части этого домашнего задания: \n",
    "\n",
    "### Отправить ваши предсказания в Stepik.\n",
    "За прохождение определенных порогов будут начисляться баллы. Эта часть оценивается из 5 баллов.\n",
    "\n",
    "1) $1.00 \\geqslant score \\geqslant 0.84$ --- 5 баллов\n",
    "\n",
    "2) $0.84 > score \\geqslant 0.77$ --- 4 балла\n",
    "\n",
    "3) $0.77 > score \\geqslant 0.70$ --- 3 балла\n",
    "\n",
    "4) $0.70 > score \\geqslant 0.65$ --- 2 балла\n",
    "\n",
    "5) $0.65 > score \\geqslant 0.6$ --- 1 балл\n",
    "\n",
    "6) $0.60 > score$ --- 0 баллов\n",
    "\n",
    "Для этого мы предварительно разделили данные в задании на две части.\n",
    "* `train.csv`. На этом наборе данных вам необходимо создать и обучить модель. Подробное описание файла есть в ноутбуке.\n",
    "* `test.csv`. В каждой строчке файла `test.csv` указаны признаки тестовых объектов. Предсказания для этого набора необходимо записать в файл submission.csv и сдать в соответствующий шаг на Stepik. Количество попыток ограничено 100 штук.\n",
    "\n",
    "Отправлять в Stepik вы будете файл с ответами `my_submission.csv`. В этом файле вам необходимо для каждого объекта из датасета предсказать вероятность класса 1. Мы подготовили для вас файл с примером посылки `submission.csv`. Ваш файл должен быть оформлен таким же образом. В ноутбуке есть пример оформления файла посылки. Для отправки файла с предсказаниями на Stepik есть отдельный шаг.\n",
    "\n",
    "### Сделать полноценный отчет о вашей работе.\n",
    "Опишите, как вы обработали данные, какие модели попробовали и какие результаты получились (максимум 10 баллов). За каждую выполненную часть будет начислено определенное количество баллов. В этом пункте вам необходимо отправить файл в формате .ipynb на Stepik --- для этого в домашнем задании есть отдельный шаг. Этот пункт оценивается из 10 баллов.\n",
    "\n",
    "**Вторая часть будет проверяться в формате peer-review. Т.е. вашу посылку на Stepik будут проверять 3 других студента, и медианное значение их оценок будет выставлено. Чтобы получить баллы, вам также нужно будет проверить трех других учеников. Это станет доступно после того, как вы сдадите задание сами.**\n",
    "\n",
    "### Контест на Kaggle\n",
    "Для вашего удобства мы подготовили [контест на Kaggle](https://www.kaggle.com/c/advanced-dls-spring-2021/). Тестирующая система на Kaggle выдает те же баллы, что и Stepik. Мы рекомендуем в качестве основной тестирующей системы использовать именно Kaggle, а затем сдать лучшую посылку на Stepik. Так вы привыкните работать с Kaggle. \n",
    "\n",
    "Проблема для российских пользователей Kaggle заключается в том, что подтверждение аккаунта по номеру телефона работает с перебоями или не работает вообще. Без подтвержденного номера телефона вы не сможете совершать посылки в kaggle. Если у вас возникла такая проблема, мы советуем следующие шаги:\n",
    "* Попробовать зарегистрировать аккаунт с аутентификацией через gmail. В таком случае, аккаунт должен работать без подтверждения номера телефона.\n",
    "* Если у вас есть не российский номер, используйте его для верификации аккаунта.\n",
    "* Если на номер телефона не приходит смс для верификации аккаунта, обратитесь в службу поддержки kaggle. Они с переменным успехом умеют подтверждать аккаунты вручную.\n",
    "* Если все же подтвердить аккаунт и получить доступ к сдаче заданий не удалось, используйте только сдачу в Stepik.\n",
    "\n",
    "### Несколько замечаний по выполнению работы\n",
    "* Во всех пунктах указания это минимальный набор вещей, которые стоит сделать. Если вы можете сделать какой-то шаг лучше или добавить что-то свое --- дерзайте!\n",
    "* Пожалуйста, перед сдачей ноутбука убедитесь, что работа чистая и понятная. Это значительно облегчит проверку и повысит ваши ожидаемые баллы. \n",
    "* Если у вас будут проблемы с решением или хочется совета, то пишите в наш чат в телеграме.\n",
    "\n",
    "\n",
    "Данные: [train.csv](https://drive.google.com/file/d/1ERwQ5odiK1Zvi1LtjpkzCMUswYsAX8_K/view?usp=share_link), \n",
    "[test.csv](https://drive.google.com/file/d/1fGw_-RFwvn_LEdt91Jq-7A-wzG6mmH8r/view?usp=share_link), [submission.csv](https://drive.google.com/file/d/199Mt4OYZNaelT83U-HGDsEYs2YcUGQ6y/view?usp=share_link). \n",
    "\n",
    "Если ссылки на данные не работают, их можно скачать [на Kaggle](https://www.kaggle.com/competitions/advanced-dls-spring-2021/data)."
   ]
  },
  {
   "cell_type": "markdown",
   "metadata": {
    "id": "Tu_JvqcBEN8Y"
   },
   "source": [
    "# Как проверять?\n",
    "\n",
    "Ставьте полный балл, если выполнены все рекомендации или сделано что-то более интересное и сложное. За каждый отсустствующий пункт из рекомендации снижайте 1 балл.\n",
    "\n",
    "**Если решение верное, но не удовлетворяет вашим эстетическим предпочтениям, за это баллы снижать не нужно.**"
   ]
  },
  {
   "cell_type": "markdown",
   "metadata": {
    "id": "ninJ63mJEEYt"
   },
   "source": [
    "# Метрика\n",
    "\n",
    "Перед решением любой задачи важно понимать, как будет оцениваться ваше решение. В данном случае мы используем стандартную для задачи классификации метрику ROC-AUC. Ее можно вычислить, используя только предсказанные вероятности и истинные классы без конкретного порога классификации + она раотает даже если классы в данных сильно несбалансированны (примеров одного класса в десятки раз больше примеров длугого). Именно поэтому она очень удобна для соревнований.\n",
    "\n",
    "Посчитать ее легко:\n"
   ]
  },
  {
   "cell_type": "code",
   "execution_count": 1,
   "metadata": {
    "id": "SQIrka7yEEYu",
    "outputId": "ef45a9f2-7571-47b1-e697-b474b65cb0fb"
   },
   "outputs": [
    {
     "data": {
      "text/plain": [
       "0.8333333333333333"
      ]
     },
     "execution_count": 1,
     "metadata": {},
     "output_type": "execute_result"
    }
   ],
   "source": [
    "from sklearn.metrics import roc_auc_score\n",
    "\n",
    "y_true = [\n",
    "    0,\n",
    "    1,\n",
    "    1,\n",
    "    0,\n",
    "    1\n",
    "]\n",
    "\n",
    "y_predictions = [\n",
    "    0.1,\n",
    "    0.9,\n",
    "    0.4,\n",
    "    0.6,\n",
    "    0.61\n",
    "]\n",
    "\n",
    "roc_auc_score(y_true, y_predictions)"
   ]
  },
  {
   "cell_type": "markdown",
   "metadata": {
    "id": "IrDNNkNTEEYz"
   },
   "source": [
    "# Первая часть. Исследование"
   ]
  },
  {
   "cell_type": "code",
   "execution_count": 2,
   "metadata": {
    "id": "lzLqEeZKEEYz"
   },
   "outputs": [],
   "source": [
    "import pandas as pd\n",
    "import numpy as np\n",
    "from matplotlib import pyplot as plt"
   ]
  },
  {
   "cell_type": "markdown",
   "metadata": {
    "id": "LOlxdURSEEY3"
   },
   "source": [
    "## Загрузка данных (2 балла)\n",
    "\n",
    "1) Посмотрите на случайные строчки. \n",
    "\n",
    "2) Посмотрите, есть ли в датасете незаполненные значения (nan'ы) с помощью data.isna() или data.info() и, если нужно, замените их на что-то. Будет хорошо, если вы построите табличку с количеством nan в каждой колонке."
   ]
  },
  {
   "cell_type": "code",
   "execution_count": 6,
   "metadata": {
    "id": "XULA1f3ch6RL"
   },
   "outputs": [
    {
     "name": "stdout",
     "output_type": "stream",
     "text": [
      "/bin/sh: gdown: command not found\n",
      "/bin/sh: gdown: command not found\n",
      "/bin/sh: gdown: command not found\n"
     ]
    }
   ],
   "source": [
    "!gdown 1ERwQ5odiK1Zvi1LtjpkzCMUswYsAX8_K  # train.csv\n",
    "!gdown 1fGw_-RFwvn_LEdt91Jq-7A-wzG6mmH8r  # test.csv\n",
    "!gdown 199Mt4OYZNaelT83U-HGDsEYs2YcUGQ6y  # submission.csv"
   ]
  },
  {
   "cell_type": "code",
   "execution_count": 124,
   "metadata": {
    "id": "pw-Brue9EEY3"
   },
   "outputs": [],
   "source": [
    "data = pd.read_csv('./train.csv')"
   ]
  },
  {
   "cell_type": "code",
   "execution_count": 125,
   "metadata": {
    "id": "KgnkkF5bEEY9"
   },
   "outputs": [],
   "source": [
    "# Для вашего удобства списки с именами разных колонок\n",
    "\n",
    "# Числовые признаки\n",
    "num_cols = [\n",
    "    'ClientPeriod',\n",
    "    'MonthlySpending',\n",
    "    'TotalSpent'\n",
    "]\n",
    "\n",
    "# Категориальные признаки\n",
    "cat_cols = [\n",
    "    'Sex',\n",
    "    'IsSeniorCitizen',\n",
    "    'HasPartner',\n",
    "    'HasChild',\n",
    "    'HasPhoneService',\n",
    "    'HasMultiplePhoneNumbers',\n",
    "    'HasInternetService',\n",
    "    'HasOnlineSecurityService',\n",
    "    'HasOnlineBackup',\n",
    "    'HasDeviceProtection',\n",
    "    'HasTechSupportAccess',\n",
    "    'HasOnlineTV',\n",
    "    'HasMovieSubscription',\n",
    "    'HasContractPhone',\n",
    "    'IsBillingPaperless',\n",
    "    'PaymentMethod'\n",
    "]\n",
    "\n",
    "feature_cols = num_cols + cat_cols\n",
    "target_col = 'Churn'"
   ]
  },
  {
   "cell_type": "code",
   "execution_count": 133,
   "metadata": {},
   "outputs": [
    {
     "data": {
      "text/html": [
       "<div>\n",
       "<style scoped>\n",
       "    .dataframe tbody tr th:only-of-type {\n",
       "        vertical-align: middle;\n",
       "    }\n",
       "\n",
       "    .dataframe tbody tr th {\n",
       "        vertical-align: top;\n",
       "    }\n",
       "\n",
       "    .dataframe thead th {\n",
       "        text-align: right;\n",
       "    }\n",
       "</style>\n",
       "<table border=\"1\" class=\"dataframe\">\n",
       "  <thead>\n",
       "    <tr style=\"text-align: right;\">\n",
       "      <th></th>\n",
       "      <th>ClientPeriod</th>\n",
       "      <th>MonthlySpending</th>\n",
       "      <th>TotalSpent</th>\n",
       "      <th>Sex</th>\n",
       "      <th>IsSeniorCitizen</th>\n",
       "      <th>HasPartner</th>\n",
       "      <th>HasChild</th>\n",
       "      <th>HasPhoneService</th>\n",
       "      <th>HasMultiplePhoneNumbers</th>\n",
       "      <th>HasInternetService</th>\n",
       "      <th>HasOnlineSecurityService</th>\n",
       "      <th>HasOnlineBackup</th>\n",
       "      <th>HasDeviceProtection</th>\n",
       "      <th>HasTechSupportAccess</th>\n",
       "      <th>HasOnlineTV</th>\n",
       "      <th>HasMovieSubscription</th>\n",
       "      <th>HasContractPhone</th>\n",
       "      <th>IsBillingPaperless</th>\n",
       "      <th>PaymentMethod</th>\n",
       "      <th>Churn</th>\n",
       "    </tr>\n",
       "  </thead>\n",
       "  <tbody>\n",
       "    <tr>\n",
       "      <th>2652</th>\n",
       "      <td>27</td>\n",
       "      <td>101.90</td>\n",
       "      <td>2681.15</td>\n",
       "      <td>Female</td>\n",
       "      <td>0</td>\n",
       "      <td>Yes</td>\n",
       "      <td>No</td>\n",
       "      <td>Yes</td>\n",
       "      <td>No</td>\n",
       "      <td>Fiber optic</td>\n",
       "      <td>Yes</td>\n",
       "      <td>No</td>\n",
       "      <td>No</td>\n",
       "      <td>Yes</td>\n",
       "      <td>Yes</td>\n",
       "      <td>Yes</td>\n",
       "      <td>One year</td>\n",
       "      <td>Yes</td>\n",
       "      <td>Credit card (automatic)</td>\n",
       "      <td>0</td>\n",
       "    </tr>\n",
       "    <tr>\n",
       "      <th>5020</th>\n",
       "      <td>63</td>\n",
       "      <td>63.55</td>\n",
       "      <td>4014.2</td>\n",
       "      <td>Female</td>\n",
       "      <td>0</td>\n",
       "      <td>Yes</td>\n",
       "      <td>Yes</td>\n",
       "      <td>Yes</td>\n",
       "      <td>No</td>\n",
       "      <td>DSL</td>\n",
       "      <td>Yes</td>\n",
       "      <td>Yes</td>\n",
       "      <td>Yes</td>\n",
       "      <td>Yes</td>\n",
       "      <td>No</td>\n",
       "      <td>No</td>\n",
       "      <td>Two year</td>\n",
       "      <td>No</td>\n",
       "      <td>Mailed check</td>\n",
       "      <td>0</td>\n",
       "    </tr>\n",
       "    <tr>\n",
       "      <th>2378</th>\n",
       "      <td>64</td>\n",
       "      <td>20.20</td>\n",
       "      <td>1277.75</td>\n",
       "      <td>Female</td>\n",
       "      <td>0</td>\n",
       "      <td>Yes</td>\n",
       "      <td>Yes</td>\n",
       "      <td>Yes</td>\n",
       "      <td>No</td>\n",
       "      <td>No</td>\n",
       "      <td>No internet service</td>\n",
       "      <td>No internet service</td>\n",
       "      <td>No internet service</td>\n",
       "      <td>No internet service</td>\n",
       "      <td>No internet service</td>\n",
       "      <td>No internet service</td>\n",
       "      <td>Two year</td>\n",
       "      <td>No</td>\n",
       "      <td>Mailed check</td>\n",
       "      <td>0</td>\n",
       "    </tr>\n",
       "    <tr>\n",
       "      <th>2545</th>\n",
       "      <td>48</td>\n",
       "      <td>108.10</td>\n",
       "      <td>5067.45</td>\n",
       "      <td>Male</td>\n",
       "      <td>0</td>\n",
       "      <td>No</td>\n",
       "      <td>No</td>\n",
       "      <td>Yes</td>\n",
       "      <td>Yes</td>\n",
       "      <td>Fiber optic</td>\n",
       "      <td>No</td>\n",
       "      <td>Yes</td>\n",
       "      <td>Yes</td>\n",
       "      <td>No</td>\n",
       "      <td>Yes</td>\n",
       "      <td>Yes</td>\n",
       "      <td>Two year</td>\n",
       "      <td>Yes</td>\n",
       "      <td>Bank transfer (automatic)</td>\n",
       "      <td>0</td>\n",
       "    </tr>\n",
       "    <tr>\n",
       "      <th>5190</th>\n",
       "      <td>71</td>\n",
       "      <td>108.60</td>\n",
       "      <td>7690.9</td>\n",
       "      <td>Male</td>\n",
       "      <td>0</td>\n",
       "      <td>Yes</td>\n",
       "      <td>No</td>\n",
       "      <td>Yes</td>\n",
       "      <td>Yes</td>\n",
       "      <td>Fiber optic</td>\n",
       "      <td>No</td>\n",
       "      <td>Yes</td>\n",
       "      <td>Yes</td>\n",
       "      <td>Yes</td>\n",
       "      <td>Yes</td>\n",
       "      <td>Yes</td>\n",
       "      <td>Two year</td>\n",
       "      <td>Yes</td>\n",
       "      <td>Credit card (automatic)</td>\n",
       "      <td>1</td>\n",
       "    </tr>\n",
       "    <tr>\n",
       "      <th>5076</th>\n",
       "      <td>4</td>\n",
       "      <td>74.65</td>\n",
       "      <td>301.4</td>\n",
       "      <td>Male</td>\n",
       "      <td>0</td>\n",
       "      <td>Yes</td>\n",
       "      <td>No</td>\n",
       "      <td>Yes</td>\n",
       "      <td>Yes</td>\n",
       "      <td>Fiber optic</td>\n",
       "      <td>No</td>\n",
       "      <td>No</td>\n",
       "      <td>No</td>\n",
       "      <td>No</td>\n",
       "      <td>No</td>\n",
       "      <td>No</td>\n",
       "      <td>Month-to-month</td>\n",
       "      <td>Yes</td>\n",
       "      <td>Electronic check</td>\n",
       "      <td>1</td>\n",
       "    </tr>\n",
       "    <tr>\n",
       "      <th>98</th>\n",
       "      <td>72</td>\n",
       "      <td>108.30</td>\n",
       "      <td>7679.65</td>\n",
       "      <td>Female</td>\n",
       "      <td>0</td>\n",
       "      <td>Yes</td>\n",
       "      <td>Yes</td>\n",
       "      <td>Yes</td>\n",
       "      <td>No</td>\n",
       "      <td>Fiber optic</td>\n",
       "      <td>Yes</td>\n",
       "      <td>Yes</td>\n",
       "      <td>Yes</td>\n",
       "      <td>Yes</td>\n",
       "      <td>Yes</td>\n",
       "      <td>Yes</td>\n",
       "      <td>Two year</td>\n",
       "      <td>Yes</td>\n",
       "      <td>Bank transfer (automatic)</td>\n",
       "      <td>0</td>\n",
       "    </tr>\n",
       "    <tr>\n",
       "      <th>1511</th>\n",
       "      <td>9</td>\n",
       "      <td>58.50</td>\n",
       "      <td>539.85</td>\n",
       "      <td>Female</td>\n",
       "      <td>0</td>\n",
       "      <td>No</td>\n",
       "      <td>No</td>\n",
       "      <td>No</td>\n",
       "      <td>No phone service</td>\n",
       "      <td>DSL</td>\n",
       "      <td>Yes</td>\n",
       "      <td>No</td>\n",
       "      <td>Yes</td>\n",
       "      <td>Yes</td>\n",
       "      <td>Yes</td>\n",
       "      <td>Yes</td>\n",
       "      <td>Month-to-month</td>\n",
       "      <td>No</td>\n",
       "      <td>Mailed check</td>\n",
       "      <td>1</td>\n",
       "    </tr>\n",
       "    <tr>\n",
       "      <th>2021</th>\n",
       "      <td>26</td>\n",
       "      <td>20.65</td>\n",
       "      <td>595.5</td>\n",
       "      <td>Male</td>\n",
       "      <td>0</td>\n",
       "      <td>No</td>\n",
       "      <td>No</td>\n",
       "      <td>Yes</td>\n",
       "      <td>No</td>\n",
       "      <td>No</td>\n",
       "      <td>No internet service</td>\n",
       "      <td>No internet service</td>\n",
       "      <td>No internet service</td>\n",
       "      <td>No internet service</td>\n",
       "      <td>No internet service</td>\n",
       "      <td>No internet service</td>\n",
       "      <td>One year</td>\n",
       "      <td>Yes</td>\n",
       "      <td>Credit card (automatic)</td>\n",
       "      <td>0</td>\n",
       "    </tr>\n",
       "    <tr>\n",
       "      <th>5207</th>\n",
       "      <td>25</td>\n",
       "      <td>95.70</td>\n",
       "      <td>2338.35</td>\n",
       "      <td>Male</td>\n",
       "      <td>0</td>\n",
       "      <td>Yes</td>\n",
       "      <td>No</td>\n",
       "      <td>Yes</td>\n",
       "      <td>No</td>\n",
       "      <td>Fiber optic</td>\n",
       "      <td>No</td>\n",
       "      <td>No</td>\n",
       "      <td>No</td>\n",
       "      <td>Yes</td>\n",
       "      <td>Yes</td>\n",
       "      <td>Yes</td>\n",
       "      <td>Month-to-month</td>\n",
       "      <td>Yes</td>\n",
       "      <td>Credit card (automatic)</td>\n",
       "      <td>0</td>\n",
       "    </tr>\n",
       "  </tbody>\n",
       "</table>\n",
       "</div>"
      ],
      "text/plain": [
       "      ClientPeriod  MonthlySpending TotalSpent     Sex  IsSeniorCitizen  \\\n",
       "2652            27           101.90    2681.15  Female                0   \n",
       "5020            63            63.55     4014.2  Female                0   \n",
       "2378            64            20.20    1277.75  Female                0   \n",
       "2545            48           108.10    5067.45    Male                0   \n",
       "5190            71           108.60     7690.9    Male                0   \n",
       "5076             4            74.65      301.4    Male                0   \n",
       "98              72           108.30    7679.65  Female                0   \n",
       "1511             9            58.50     539.85  Female                0   \n",
       "2021            26            20.65      595.5    Male                0   \n",
       "5207            25            95.70    2338.35    Male                0   \n",
       "\n",
       "     HasPartner HasChild HasPhoneService HasMultiplePhoneNumbers  \\\n",
       "2652        Yes       No             Yes                      No   \n",
       "5020        Yes      Yes             Yes                      No   \n",
       "2378        Yes      Yes             Yes                      No   \n",
       "2545         No       No             Yes                     Yes   \n",
       "5190        Yes       No             Yes                     Yes   \n",
       "5076        Yes       No             Yes                     Yes   \n",
       "98          Yes      Yes             Yes                      No   \n",
       "1511         No       No              No        No phone service   \n",
       "2021         No       No             Yes                      No   \n",
       "5207        Yes       No             Yes                      No   \n",
       "\n",
       "     HasInternetService HasOnlineSecurityService      HasOnlineBackup  \\\n",
       "2652        Fiber optic                      Yes                   No   \n",
       "5020                DSL                      Yes                  Yes   \n",
       "2378                 No      No internet service  No internet service   \n",
       "2545        Fiber optic                       No                  Yes   \n",
       "5190        Fiber optic                       No                  Yes   \n",
       "5076        Fiber optic                       No                   No   \n",
       "98          Fiber optic                      Yes                  Yes   \n",
       "1511                DSL                      Yes                   No   \n",
       "2021                 No      No internet service  No internet service   \n",
       "5207        Fiber optic                       No                   No   \n",
       "\n",
       "      HasDeviceProtection HasTechSupportAccess          HasOnlineTV  \\\n",
       "2652                   No                  Yes                  Yes   \n",
       "5020                  Yes                  Yes                   No   \n",
       "2378  No internet service  No internet service  No internet service   \n",
       "2545                  Yes                   No                  Yes   \n",
       "5190                  Yes                  Yes                  Yes   \n",
       "5076                   No                   No                   No   \n",
       "98                    Yes                  Yes                  Yes   \n",
       "1511                  Yes                  Yes                  Yes   \n",
       "2021  No internet service  No internet service  No internet service   \n",
       "5207                   No                  Yes                  Yes   \n",
       "\n",
       "     HasMovieSubscription HasContractPhone IsBillingPaperless  \\\n",
       "2652                  Yes         One year                Yes   \n",
       "5020                   No         Two year                 No   \n",
       "2378  No internet service         Two year                 No   \n",
       "2545                  Yes         Two year                Yes   \n",
       "5190                  Yes         Two year                Yes   \n",
       "5076                   No   Month-to-month                Yes   \n",
       "98                    Yes         Two year                Yes   \n",
       "1511                  Yes   Month-to-month                 No   \n",
       "2021  No internet service         One year                Yes   \n",
       "5207                  Yes   Month-to-month                Yes   \n",
       "\n",
       "                  PaymentMethod  Churn  \n",
       "2652    Credit card (automatic)      0  \n",
       "5020               Mailed check      0  \n",
       "2378               Mailed check      0  \n",
       "2545  Bank transfer (automatic)      0  \n",
       "5190    Credit card (automatic)      1  \n",
       "5076           Electronic check      1  \n",
       "98    Bank transfer (automatic)      0  \n",
       "1511               Mailed check      1  \n",
       "2021    Credit card (automatic)      0  \n",
       "5207    Credit card (automatic)      0  "
      ]
     },
     "execution_count": 133,
     "metadata": {},
     "output_type": "execute_result"
    }
   ],
   "source": [
    "# случайные строки\n",
    "data.sample(10)"
   ]
  },
  {
   "cell_type": "code",
   "execution_count": 164,
   "metadata": {
    "id": "tHC6gWabEEZA"
   },
   "outputs": [
    {
     "name": "stdout",
     "output_type": "stream",
     "text": [
      "ClientPeriod                0\n",
      "MonthlySpending             0\n",
      "TotalSpent                  0\n",
      "Sex                         0\n",
      "IsSeniorCitizen             0\n",
      "HasPartner                  0\n",
      "HasChild                    0\n",
      "HasPhoneService             0\n",
      "HasMultiplePhoneNumbers     0\n",
      "HasInternetService          0\n",
      "HasOnlineSecurityService    0\n",
      "HasOnlineBackup             0\n",
      "HasDeviceProtection         0\n",
      "HasTechSupportAccess        0\n",
      "HasOnlineTV                 0\n",
      "HasMovieSubscription        0\n",
      "HasContractPhone            0\n",
      "IsBillingPaperless          0\n",
      "PaymentMethod               0\n",
      "Churn                       0\n",
      "dtype: int64\n"
     ]
    }
   ],
   "source": [
    "data.replace('', np.nan, inplace=True)\n",
    "nan_counts = data.isna().sum()\n",
    "print(nan_counts)\n",
    "# видим, что нет незаполненных значений"
   ]
  },
  {
   "cell_type": "code",
   "execution_count": 149,
   "metadata": {},
   "outputs": [
    {
     "name": "stdout",
     "output_type": "stream",
     "text": [
      "<class 'pandas.core.frame.DataFrame'>\n",
      "RangeIndex: 5282 entries, 0 to 5281\n",
      "Data columns (total 20 columns):\n",
      " #   Column                    Non-Null Count  Dtype  \n",
      "---  ------                    --------------  -----  \n",
      " 0   ClientPeriod              5282 non-null   int64  \n",
      " 1   MonthlySpending           5282 non-null   float64\n",
      " 2   TotalSpent                5282 non-null   object \n",
      " 3   Sex                       5282 non-null   object \n",
      " 4   IsSeniorCitizen           5282 non-null   int64  \n",
      " 5   HasPartner                5282 non-null   object \n",
      " 6   HasChild                  5282 non-null   object \n",
      " 7   HasPhoneService           5282 non-null   object \n",
      " 8   HasMultiplePhoneNumbers   5282 non-null   object \n",
      " 9   HasInternetService        5282 non-null   object \n",
      " 10  HasOnlineSecurityService  5282 non-null   object \n",
      " 11  HasOnlineBackup           5282 non-null   object \n",
      " 12  HasDeviceProtection       5282 non-null   object \n",
      " 13  HasTechSupportAccess      5282 non-null   object \n",
      " 14  HasOnlineTV               5282 non-null   object \n",
      " 15  HasMovieSubscription      5282 non-null   object \n",
      " 16  HasContractPhone          5282 non-null   object \n",
      " 17  IsBillingPaperless        5282 non-null   object \n",
      " 18  PaymentMethod             5282 non-null   object \n",
      " 19  Churn                     5282 non-null   int64  \n",
      "dtypes: float64(1), int64(3), object(16)\n",
      "memory usage: 825.4+ KB\n"
     ]
    }
   ],
   "source": [
    "data.info()"
   ]
  },
  {
   "cell_type": "code",
   "execution_count": 154,
   "metadata": {},
   "outputs": [],
   "source": [
    "for i in range(len(data['TotalSpent'])):\n",
    "    if data['TotalSpent'][i] == '':\n",
    "        data['TotalSpent'][i] = '0'\n",
    "data['TotalSpent'] = data['TotalSpent'].astype(float)"
   ]
  },
  {
   "cell_type": "code",
   "execution_count": 19,
   "metadata": {},
   "outputs": [
    {
     "data": {
      "text/html": [
       "<div>\n",
       "<style scoped>\n",
       "    .dataframe tbody tr th:only-of-type {\n",
       "        vertical-align: middle;\n",
       "    }\n",
       "\n",
       "    .dataframe tbody tr th {\n",
       "        vertical-align: top;\n",
       "    }\n",
       "\n",
       "    .dataframe thead th {\n",
       "        text-align: right;\n",
       "    }\n",
       "</style>\n",
       "<table border=\"1\" class=\"dataframe\">\n",
       "  <thead>\n",
       "    <tr style=\"text-align: right;\">\n",
       "      <th></th>\n",
       "      <th>Column Name</th>\n",
       "      <th>NaN Count</th>\n",
       "    </tr>\n",
       "  </thead>\n",
       "  <tbody>\n",
       "    <tr>\n",
       "      <th>0</th>\n",
       "      <td>ClientPeriod</td>\n",
       "      <td>0</td>\n",
       "    </tr>\n",
       "    <tr>\n",
       "      <th>1</th>\n",
       "      <td>MonthlySpending</td>\n",
       "      <td>0</td>\n",
       "    </tr>\n",
       "    <tr>\n",
       "      <th>2</th>\n",
       "      <td>TotalSpent</td>\n",
       "      <td>0</td>\n",
       "    </tr>\n",
       "    <tr>\n",
       "      <th>3</th>\n",
       "      <td>Sex</td>\n",
       "      <td>0</td>\n",
       "    </tr>\n",
       "    <tr>\n",
       "      <th>4</th>\n",
       "      <td>IsSeniorCitizen</td>\n",
       "      <td>0</td>\n",
       "    </tr>\n",
       "    <tr>\n",
       "      <th>5</th>\n",
       "      <td>HasPartner</td>\n",
       "      <td>0</td>\n",
       "    </tr>\n",
       "    <tr>\n",
       "      <th>6</th>\n",
       "      <td>HasChild</td>\n",
       "      <td>0</td>\n",
       "    </tr>\n",
       "    <tr>\n",
       "      <th>7</th>\n",
       "      <td>HasPhoneService</td>\n",
       "      <td>0</td>\n",
       "    </tr>\n",
       "    <tr>\n",
       "      <th>8</th>\n",
       "      <td>HasMultiplePhoneNumbers</td>\n",
       "      <td>0</td>\n",
       "    </tr>\n",
       "    <tr>\n",
       "      <th>9</th>\n",
       "      <td>HasInternetService</td>\n",
       "      <td>0</td>\n",
       "    </tr>\n",
       "    <tr>\n",
       "      <th>10</th>\n",
       "      <td>HasOnlineSecurityService</td>\n",
       "      <td>0</td>\n",
       "    </tr>\n",
       "    <tr>\n",
       "      <th>11</th>\n",
       "      <td>HasOnlineBackup</td>\n",
       "      <td>0</td>\n",
       "    </tr>\n",
       "    <tr>\n",
       "      <th>12</th>\n",
       "      <td>HasDeviceProtection</td>\n",
       "      <td>0</td>\n",
       "    </tr>\n",
       "    <tr>\n",
       "      <th>13</th>\n",
       "      <td>HasTechSupportAccess</td>\n",
       "      <td>0</td>\n",
       "    </tr>\n",
       "    <tr>\n",
       "      <th>14</th>\n",
       "      <td>HasOnlineTV</td>\n",
       "      <td>0</td>\n",
       "    </tr>\n",
       "    <tr>\n",
       "      <th>15</th>\n",
       "      <td>HasMovieSubscription</td>\n",
       "      <td>0</td>\n",
       "    </tr>\n",
       "    <tr>\n",
       "      <th>16</th>\n",
       "      <td>HasContractPhone</td>\n",
       "      <td>0</td>\n",
       "    </tr>\n",
       "    <tr>\n",
       "      <th>17</th>\n",
       "      <td>IsBillingPaperless</td>\n",
       "      <td>0</td>\n",
       "    </tr>\n",
       "    <tr>\n",
       "      <th>18</th>\n",
       "      <td>PaymentMethod</td>\n",
       "      <td>0</td>\n",
       "    </tr>\n",
       "    <tr>\n",
       "      <th>19</th>\n",
       "      <td>Churn</td>\n",
       "      <td>0</td>\n",
       "    </tr>\n",
       "  </tbody>\n",
       "</table>\n",
       "</div>"
      ],
      "text/plain": [
       "                 Column Name  NaN Count\n",
       "0               ClientPeriod          0\n",
       "1            MonthlySpending          0\n",
       "2                 TotalSpent          0\n",
       "3                        Sex          0\n",
       "4            IsSeniorCitizen          0\n",
       "5                 HasPartner          0\n",
       "6                   HasChild          0\n",
       "7            HasPhoneService          0\n",
       "8    HasMultiplePhoneNumbers          0\n",
       "9         HasInternetService          0\n",
       "10  HasOnlineSecurityService          0\n",
       "11           HasOnlineBackup          0\n",
       "12       HasDeviceProtection          0\n",
       "13      HasTechSupportAccess          0\n",
       "14               HasOnlineTV          0\n",
       "15      HasMovieSubscription          0\n",
       "16          HasContractPhone          0\n",
       "17        IsBillingPaperless          0\n",
       "18             PaymentMethod          0\n",
       "19                     Churn          0"
      ]
     },
     "execution_count": 19,
     "metadata": {},
     "output_type": "execute_result"
    }
   ],
   "source": [
    "# более красивая табличка\n",
    "nan_table = pd.DataFrame({'Column Name': nan_counts.index, 'NaN Count': nan_counts.values})\n",
    "nan_table"
   ]
  },
  {
   "cell_type": "markdown",
   "metadata": {
    "id": "dK370bPCEEZD"
   },
   "source": [
    "## Анализ данных (3 балла)\n",
    "\n",
    "1) Для численных призанков постройте гистограмму (*plt.hist(...)*) или boxplot (*plt.boxplot(...)*). Для категориальных посчитайте количество каждого значения для каждого признака. Для каждой колонки надо сделать *data.value_counts()* и построить bar диаграммы *plt.bar(...)* или круговые диаграммы *plt.pie(...)* (хорошо, елси вы сможете это сделать на одном гарфике с помощью *plt.subplots(...)*). \n",
    "\n",
    "2) Посмотрите на распределение целевой переменной и скажите, являются ли классы несбалансированными.\n",
    "\n",
    "3) (Если будет желание) Поиграйте с разными библиотеками для визуализации - *sns*, *pandas_visual_analysis*, etc.\n",
    "\n",
    "Второй пункт очень важен, потому что существуют задачи классификации с несбалансированными классами. Например, это может значить, что в датасете намного больше примеров 0 класса. В таких случаях нужно 1) не использовать accuracy как метрику 2) использовать методы борьбы с imbalanced dataset (обычно если датасет сильно несбалансирован, т.е. класса 1 в 20 раз меньше класса 0)."
   ]
  },
  {
   "cell_type": "code",
   "execution_count": 161,
   "metadata": {
    "id": "NZkbgFJZEEZE"
   },
   "outputs": [
    {
     "data": {
      "image/png": "[encoded data removed]",
      "text/plain": [
       "<Figure size 720x360 with 2 Axes>"
      ]
     },
     "metadata": {
      "needs_background": "light"
     },
     "output_type": "display_data"
    }
   ],
   "source": [
    "fig, ax = plt.subplots(nrows=1, ncols=len(num_cols)-1, figsize=(10, 5))\n",
    "for i, col in enumerate(num_cols[:-1]):\n",
    "    ax[i].hist(data[col])\n",
    "    ax[i].set_title(col)\n",
    "\n",
    "plt.tight_layout()\n",
    "plt.show()"
   ]
  },
  {
   "cell_type": "code",
   "execution_count": 237,
   "metadata": {},
   "outputs": [
    {
     "data": {
      "image/png": "[encoded data removed]",
      "text/plain": [
       "<Figure size 432x288 with 1 Axes>"
      ]
     },
     "metadata": {
      "needs_background": "light"
     },
     "output_type": "display_data"
    }
   ],
   "source": [
    "plt.boxplot(data[num_cols[:-1]])\n",
    "plt.title(num_cols[:-1])\n",
    "\n",
    "plt.show()"
   ]
  },
  {
   "cell_type": "code",
   "execution_count": 92,
   "metadata": {},
   "outputs": [
    {
     "data": {
      "image/png": "[encoded data removed]",
      "text/plain": [
       "<Figure size 1224x1656 with 16 Axes>"
      ]
     },
     "metadata": {
      "needs_background": "light"
     },
     "output_type": "display_data"
    }
   ],
   "source": [
    "col_size = len(cat_cols) // 4\n",
    "fig, ax = plt.subplots(nrows=4, ncols=col_size, figsize=(17, 23))\n",
    "for i, col in enumerate(cat_cols):\n",
    "    counts = data[col].value_counts()\n",
    "    ax[i // col_size][i - i // col_size * col_size].bar(counts.index, counts.values)\n",
    "    ax[i // col_size][i - i // col_size * col_size].set_title(col)\n",
    "    ax[i // col_size][i - i // col_size * col_size].set_xticklabels(counts.index, rotation=45)\n",
    "\n",
    "plt.tight_layout()\n",
    "plt.show()"
   ]
  },
  {
   "cell_type": "code",
   "execution_count": 97,
   "metadata": {},
   "outputs": [
    {
     "data": {
      "text/plain": [
       "2.816473988439306"
      ]
     },
     "execution_count": 97,
     "metadata": {},
     "output_type": "execute_result"
    },
    {
     "data": {
      "image/png": "[encoded data removed]",
      "text/plain": [
       "<Figure size 432x288 with 1 Axes>"
      ]
     },
     "metadata": {
      "needs_background": "light"
     },
     "output_type": "display_data"
    }
   ],
   "source": [
    "counts = data[target_col].value_counts()\n",
    "plt.bar(counts.index, counts.values)\n",
    "plt.xlabel(target_col)\n",
    "plt.ylabel('Count')\n",
    "plt.xticks(counts.index)\n",
    "\n",
    "class_balance = counts[0] / counts[1]\n",
    "class_balance"
   ]
  },
  {
   "cell_type": "markdown",
   "metadata": {},
   "source": [
    "<b>Вывод:</b> Можно заметить, что кол-во 0 и 1 отличаются менее чем в 3 раза, значит классы можно считать сбалансированными"
   ]
  },
  {
   "cell_type": "markdown",
   "metadata": {
    "id": "zg60u3QDEEZH"
   },
   "source": [
    "(Дополнительно) Если вы нашли какие-то ошибки в данных или выбросы, то можете их убрать. Тут можно поэксперементировать с обработкой данных как угодно, но не за баллы."
   ]
  },
  {
   "cell_type": "code",
   "execution_count": null,
   "metadata": {
    "id": "fwfksF1gEEZI"
   },
   "outputs": [],
   "source": [
    "# YOUR CODE"
   ]
  },
  {
   "cell_type": "markdown",
   "metadata": {
    "id": "DviiJd8REEZK"
   },
   "source": [
    "## Применение линейных моделей (3 балла)\n",
    "\n",
    "1) Обработайте данные для того, чтобы к ним можно было применить LogisticRegression. Т.е. отнормируйте числовые признаки, а категориальные закодируйте с помощью one-hot-encoding'а. \n",
    "\n",
    "2) С помощью кроссвалидации или разделения на train/valid выборку протестируйте разные значения гиперпараметра C и выберите лучший (можно тестировать С=100, 10, 1, 0.1, 0.01, 0.001) по метрике ROC-AUC. \n",
    "\n",
    "Если вы разделяете на train/valid, то используйте LogisticRegressionCV. Он сам при вызове .fit() подберет параметр С. (не забудьте передать scroing='roc_auc', чтобы при кроссвалидации сравнивались значения этой метрики, и refit=True, чтобы при потом модель обучилась на всем датасете с лучшим параметром C). \n",
    "\n",
    "\n",
    "(более сложный вариант) Если вы будете использовать кроссвалидацию, то преобразования данных и LogisticRegression нужно соединить в один Pipeline с помощью make_pipeline, как это делалось во втором семинаре. Потом pipeline надо передать в GridSearchCV. Для one-hot-encoding'a можно испльзовать комбинацию LabelEncoder + OneHotEncoder (сначала превращаем строчки в числа, а потом числа првращаем в one-hot вектора.)"
   ]
  },
  {
   "cell_type": "code",
   "execution_count": 184,
   "metadata": {
    "id": "xHCLDmwqEEZL"
   },
   "outputs": [],
   "source": [
    "from sklearn.linear_model import LogisticRegression, LogisticRegressionCV\n",
    "from sklearn.model_selection import train_test_split, GridSearchCV, cross_val_score\n",
    "from sklearn.preprocessing import StandardScaler, RobustScaler, LabelEncoder, OneHotEncoder\n",
    "from sklearn.pipeline import make_pipeline\n",
    "from sklearn.compose import ColumnTransformer"
   ]
  },
  {
   "cell_type": "code",
   "execution_count": 211,
   "metadata": {
    "id": "P2Yv3uYtEEZO"
   },
   "outputs": [
    {
     "name": "stdout",
     "output_type": "stream",
     "text": [
      "0.8133424505601926\n"
     ]
    },
    {
     "data": {
      "text/plain": [
       "LogisticRegression(C=0.01, class_weight=None, dual=False, fit_intercept=True,\n",
       "                   intercept_scaling=1, l1_ratio=None, max_iter=100,\n",
       "                   multi_class='auto', n_jobs=None, penalty='l2',\n",
       "                   random_state=None, solver='lbfgs', tol=0.0001, verbose=0,\n",
       "                   warm_start=False)"
      ]
     },
     "execution_count": 211,
     "metadata": {},
     "output_type": "execute_result"
    }
   ],
   "source": [
    "import warnings\n",
    "warnings.filterwarnings('ignore')\n",
    "\n",
    "X = data.drop(target_col, axis=1)\n",
    "y = data[target_col]\n",
    "\n",
    "X_encoded = pd.get_dummies(X, columns=cat_cols)\n",
    "\n",
    "scaler = StandardScaler()\n",
    "X_encoded[num_cols] = scaler.fit_transform(X_encoded[num_cols])\n",
    "\n",
    "X_train, X_valid, y_train, y_valid = train_test_split(X_encoded, y, test_size=0.2, random_state=42)\n",
    "\n",
    "C_values = [100, 10, 1, 0.1, 0.01, 0.001]\n",
    "best_auc = 0\n",
    "best_C = None\n",
    "for C in C_values:\n",
    "    lr = LogisticRegressionCV(Cs=[C], cv=5, scoring='roc_auc', refit=True)\n",
    "    lr.fit(X_train, y_train)\n",
    "    auc = np.mean(cross_val_score(lr, X_valid, y_valid, scoring='roc_auc', cv=5))\n",
    "    if auc > best_auc:\n",
    "        best_auc = auc\n",
    "        best_C = C\n",
    "\n",
    "print(best_auc)\n",
    "final_lr = LogisticRegression(C=best_C)\n",
    "final_lr.fit(X_encoded, y)"
   ]
  },
  {
   "cell_type": "markdown",
   "metadata": {
    "id": "uVahy6JKEEZQ"
   },
   "source": [
    "Выпишите какое лучшее качество и с какими параметрами вам удалось получить"
   ]
  },
  {
   "cell_type": "markdown",
   "metadata": {
    "id": "36729TOQEEZR"
   },
   "source": [
    "<b>Best C value:</b> 0.1\n",
    "\n",
    "<b>ROC-AUC score on validation set:</b> 0.8133424505601926"
   ]
  },
  {
   "cell_type": "markdown",
   "metadata": {
    "id": "BlTeVy7fEEZR"
   },
   "source": [
    "## Применение градиентного бустинга (2 балла)\n",
    "\n",
    "Если вы хотите получить баллы за точный ответ, то стоит попробовать градиентный бустинг. Часто градиентный бустинг с параметрами по умолчанию даст вам 80% результата за 0% усилий.\n",
    "\n",
    "Мы будем использовать catboost, поэтому нам не надо кодировать категориальные признаки. Catboost сделает это сам (в .fit() надо передать cat_features=cat_cols). А численные признаки нормировать для моделей, основанных на деревьях не нужно.\n",
    "\n",
    "1) Разделите выборку на train/valid. Протестируйте catboost cо стандартными параметрами.\n",
    "\n",
    "2) Протестируйте разные занчения параметроа количества деревьев и learning_rate'а и выберите лучшую по метрике ROC-AUC комбинацию. \n",
    "\n",
    "(Дополнительно) Есть некоторые сложности с тем, чтобы использовать CatBoostClassifier вместе с GridSearchCV, поэтому мы не просим использовать кроссвалидацию. Но можете попробовать)"
   ]
  },
  {
   "cell_type": "code",
   "execution_count": 233,
   "metadata": {
    "id": "Fioxxlp-EEZS"
   },
   "outputs": [
    {
     "name": "stdout",
     "output_type": "stream",
     "text": [
      "Learning rate set to 0.045236\n",
      "0:\tlearn: 0.6622840\ttest: 0.6638133\tbest: 0.6638133 (0)\ttotal: 11.8ms\tremaining: 11.8s\n",
      "1:\tlearn: 0.6364087\ttest: 0.6400585\tbest: 0.6400585 (1)\ttotal: 19.8ms\tremaining: 9.87s\n",
      "2:\tlearn: 0.6112601\ttest: 0.6169789\tbest: 0.6169789 (2)\ttotal: 28.6ms\tremaining: 9.49s\n",
      "3:\tlearn: 0.5894296\ttest: 0.5972254\tbest: 0.5972254 (3)\ttotal: 38.4ms\tremaining: 9.56s\n",
      "4:\tlearn: 0.5707236\ttest: 0.5801941\tbest: 0.5801941 (4)\ttotal: 54.6ms\tremaining: 10.9s\n",
      "5:\tlearn: 0.5543779\ttest: 0.5646963\tbest: 0.5646963 (5)\ttotal: 63.9ms\tremaining: 10.6s\n",
      "6:\tlearn: 0.5397837\ttest: 0.5507207\tbest: 0.5507207 (6)\ttotal: 73.5ms\tremaining: 10.4s\n",
      "7:\tlearn: 0.5287865\ttest: 0.5398545\tbest: 0.5398545 (7)\ttotal: 78.8ms\tremaining: 9.77s\n",
      "8:\tlearn: 0.5168807\ttest: 0.5289118\tbest: 0.5289118 (8)\ttotal: 87.3ms\tremaining: 9.61s\n",
      "9:\tlearn: 0.5059433\ttest: 0.5191852\tbest: 0.5191852 (9)\ttotal: 102ms\tremaining: 10.1s\n",
      "10:\tlearn: 0.4969293\ttest: 0.5113496\tbest: 0.5113496 (10)\ttotal: 113ms\tremaining: 10.2s\n",
      "11:\tlearn: 0.4887767\ttest: 0.5041266\tbest: 0.5041266 (11)\ttotal: 121ms\tremaining: 9.97s\n",
      "12:\tlearn: 0.4816398\ttest: 0.4975871\tbest: 0.4975871 (12)\ttotal: 133ms\tremaining: 10.1s\n",
      "13:\tlearn: 0.4753027\ttest: 0.4924276\tbest: 0.4924276 (13)\ttotal: 142ms\tremaining: 10s\n",
      "14:\tlearn: 0.4689734\ttest: 0.4871723\tbest: 0.4871723 (14)\ttotal: 149ms\tremaining: 9.81s\n",
      "15:\tlearn: 0.4632217\ttest: 0.4825623\tbest: 0.4825623 (15)\ttotal: 161ms\tremaining: 9.87s\n",
      "16:\tlearn: 0.4574663\ttest: 0.4778422\tbest: 0.4778422 (16)\ttotal: 178ms\tremaining: 10.3s\n",
      "17:\tlearn: 0.4524382\ttest: 0.4735514\tbest: 0.4735514 (17)\ttotal: 200ms\tremaining: 10.9s\n",
      "18:\tlearn: 0.4479884\ttest: 0.4699085\tbest: 0.4699085 (18)\ttotal: 214ms\tremaining: 11.1s\n",
      "19:\tlearn: 0.4446272\ttest: 0.4670860\tbest: 0.4670860 (19)\ttotal: 222ms\tremaining: 10.9s\n",
      "20:\tlearn: 0.4408880\ttest: 0.4639995\tbest: 0.4639995 (20)\ttotal: 234ms\tremaining: 10.9s\n",
      "21:\tlearn: 0.4377756\ttest: 0.4615909\tbest: 0.4615909 (21)\ttotal: 245ms\tremaining: 10.9s\n",
      "22:\tlearn: 0.4342238\ttest: 0.4589022\tbest: 0.4589022 (22)\ttotal: 253ms\tremaining: 10.8s\n",
      "23:\tlearn: 0.4314124\ttest: 0.4569571\tbest: 0.4569571 (23)\ttotal: 262ms\tremaining: 10.7s\n",
      "24:\tlearn: 0.4291276\ttest: 0.4552362\tbest: 0.4552362 (24)\ttotal: 270ms\tremaining: 10.5s\n",
      "25:\tlearn: 0.4263885\ttest: 0.4535130\tbest: 0.4535130 (25)\ttotal: 278ms\tremaining: 10.4s\n",
      "26:\tlearn: 0.4238930\ttest: 0.4520702\tbest: 0.4520702 (26)\ttotal: 285ms\tremaining: 10.3s\n",
      "27:\tlearn: 0.4217927\ttest: 0.4505691\tbest: 0.4505691 (27)\ttotal: 294ms\tremaining: 10.2s\n",
      "28:\tlearn: 0.4200161\ttest: 0.4496662\tbest: 0.4496662 (28)\ttotal: 302ms\tremaining: 10.1s\n",
      "29:\tlearn: 0.4181041\ttest: 0.4480154\tbest: 0.4480154 (29)\ttotal: 310ms\tremaining: 10s\n",
      "30:\tlearn: 0.4162496\ttest: 0.4470579\tbest: 0.4470579 (30)\ttotal: 317ms\tremaining: 9.91s\n",
      "31:\tlearn: 0.4143643\ttest: 0.4458979\tbest: 0.4458979 (31)\ttotal: 325ms\tremaining: 9.85s\n",
      "32:\tlearn: 0.4130336\ttest: 0.4450460\tbest: 0.4450460 (32)\ttotal: 335ms\tremaining: 9.81s\n",
      "33:\tlearn: 0.4122411\ttest: 0.4444075\tbest: 0.4444075 (33)\ttotal: 341ms\tremaining: 9.68s\n",
      "34:\tlearn: 0.4107724\ttest: 0.4435350\tbest: 0.4435350 (34)\ttotal: 351ms\tremaining: 9.66s\n",
      "35:\tlearn: 0.4094915\ttest: 0.4429773\tbest: 0.4429773 (35)\ttotal: 366ms\tremaining: 9.81s\n",
      "36:\tlearn: 0.4087241\ttest: 0.4423980\tbest: 0.4423980 (36)\ttotal: 379ms\tremaining: 9.85s\n",
      "37:\tlearn: 0.4076497\ttest: 0.4414859\tbest: 0.4414859 (37)\ttotal: 387ms\tremaining: 9.79s\n",
      "38:\tlearn: 0.4068913\ttest: 0.4409357\tbest: 0.4409357 (38)\ttotal: 397ms\tremaining: 9.77s\n",
      "39:\tlearn: 0.4057000\ttest: 0.4403977\tbest: 0.4403977 (39)\ttotal: 406ms\tremaining: 9.74s\n",
      "40:\tlearn: 0.4046066\ttest: 0.4395182\tbest: 0.4395182 (40)\ttotal: 414ms\tremaining: 9.67s\n",
      "41:\tlearn: 0.4034802\ttest: 0.4389854\tbest: 0.4389854 (41)\ttotal: 419ms\tremaining: 9.55s\n",
      "42:\tlearn: 0.4031903\ttest: 0.4387383\tbest: 0.4387383 (42)\ttotal: 423ms\tremaining: 9.41s\n",
      "43:\tlearn: 0.4024275\ttest: 0.4384226\tbest: 0.4384226 (43)\ttotal: 428ms\tremaining: 9.31s\n",
      "44:\tlearn: 0.4014014\ttest: 0.4379996\tbest: 0.4379996 (44)\ttotal: 434ms\tremaining: 9.22s\n",
      "45:\tlearn: 0.4004659\ttest: 0.4378195\tbest: 0.4378195 (45)\ttotal: 442ms\tremaining: 9.16s\n",
      "46:\tlearn: 0.3998748\ttest: 0.4374840\tbest: 0.4374840 (46)\ttotal: 449ms\tremaining: 9.09s\n",
      "47:\tlearn: 0.3993060\ttest: 0.4372633\tbest: 0.4372633 (47)\ttotal: 454ms\tremaining: 9.01s\n",
      "48:\tlearn: 0.3986509\ttest: 0.4371524\tbest: 0.4371524 (48)\ttotal: 462ms\tremaining: 8.96s\n",
      "49:\tlearn: 0.3978141\ttest: 0.4368190\tbest: 0.4368190 (49)\ttotal: 468ms\tremaining: 8.89s\n",
      "50:\tlearn: 0.3968436\ttest: 0.4362451\tbest: 0.4362451 (50)\ttotal: 474ms\tremaining: 8.82s\n",
      "51:\tlearn: 0.3960840\ttest: 0.4359663\tbest: 0.4359663 (51)\ttotal: 481ms\tremaining: 8.77s\n",
      "52:\tlearn: 0.3955886\ttest: 0.4358095\tbest: 0.4358095 (52)\ttotal: 488ms\tremaining: 8.71s\n",
      "53:\tlearn: 0.3952450\ttest: 0.4356340\tbest: 0.4356340 (53)\ttotal: 495ms\tremaining: 8.66s\n",
      "54:\tlearn: 0.3945205\ttest: 0.4352890\tbest: 0.4352890 (54)\ttotal: 501ms\tremaining: 8.61s\n",
      "55:\tlearn: 0.3937365\ttest: 0.4351066\tbest: 0.4351066 (55)\ttotal: 509ms\tremaining: 8.58s\n",
      "56:\tlearn: 0.3928689\ttest: 0.4350290\tbest: 0.4350290 (56)\ttotal: 518ms\tremaining: 8.57s\n",
      "57:\tlearn: 0.3927291\ttest: 0.4349542\tbest: 0.4349542 (57)\ttotal: 525ms\tremaining: 8.53s\n",
      "58:\tlearn: 0.3926248\ttest: 0.4349103\tbest: 0.4349103 (58)\ttotal: 528ms\tremaining: 8.43s\n",
      "59:\tlearn: 0.3922925\ttest: 0.4347172\tbest: 0.4347172 (59)\ttotal: 534ms\tremaining: 8.37s\n",
      "60:\tlearn: 0.3919192\ttest: 0.4346484\tbest: 0.4346484 (60)\ttotal: 539ms\tremaining: 8.3s\n",
      "61:\tlearn: 0.3913846\ttest: 0.4345028\tbest: 0.4345028 (61)\ttotal: 546ms\tremaining: 8.27s\n",
      "62:\tlearn: 0.3907206\ttest: 0.4341432\tbest: 0.4341432 (62)\ttotal: 554ms\tremaining: 8.23s\n",
      "63:\tlearn: 0.3902050\ttest: 0.4336978\tbest: 0.4336978 (63)\ttotal: 562ms\tremaining: 8.22s\n",
      "64:\tlearn: 0.3898863\ttest: 0.4334363\tbest: 0.4334363 (64)\ttotal: 573ms\tremaining: 8.25s\n",
      "65:\tlearn: 0.3891397\ttest: 0.4333178\tbest: 0.4333178 (65)\ttotal: 581ms\tremaining: 8.23s\n",
      "66:\tlearn: 0.3889441\ttest: 0.4331799\tbest: 0.4331799 (66)\ttotal: 589ms\tremaining: 8.2s\n",
      "67:\tlearn: 0.3883156\ttest: 0.4325618\tbest: 0.4325618 (67)\ttotal: 597ms\tremaining: 8.18s\n",
      "68:\tlearn: 0.3876629\ttest: 0.4325144\tbest: 0.4325144 (68)\ttotal: 603ms\tremaining: 8.14s\n",
      "69:\tlearn: 0.3871001\ttest: 0.4324982\tbest: 0.4324982 (69)\ttotal: 611ms\tremaining: 8.12s\n",
      "70:\tlearn: 0.3867462\ttest: 0.4325187\tbest: 0.4324982 (69)\ttotal: 618ms\tremaining: 8.09s\n",
      "71:\tlearn: 0.3866951\ttest: 0.4324843\tbest: 0.4324843 (71)\ttotal: 622ms\tremaining: 8.02s\n",
      "72:\tlearn: 0.3860682\ttest: 0.4323989\tbest: 0.4323989 (72)\ttotal: 629ms\tremaining: 7.99s\n",
      "73:\tlearn: 0.3854644\ttest: 0.4322239\tbest: 0.4322239 (73)\ttotal: 637ms\tremaining: 7.97s\n",
      "74:\tlearn: 0.3853237\ttest: 0.4322678\tbest: 0.4322239 (73)\ttotal: 646ms\tremaining: 7.96s\n",
      "75:\tlearn: 0.3851096\ttest: 0.4322455\tbest: 0.4322239 (73)\ttotal: 650ms\tremaining: 7.9s\n",
      "76:\tlearn: 0.3850123\ttest: 0.4321756\tbest: 0.4321756 (76)\ttotal: 653ms\tremaining: 7.82s\n",
      "77:\tlearn: 0.3848139\ttest: 0.4320153\tbest: 0.4320153 (77)\ttotal: 661ms\tremaining: 7.81s\n",
      "78:\tlearn: 0.3842290\ttest: 0.4317077\tbest: 0.4317077 (78)\ttotal: 667ms\tremaining: 7.78s\n",
      "79:\tlearn: 0.3840136\ttest: 0.4315587\tbest: 0.4315587 (79)\ttotal: 675ms\tremaining: 7.76s\n",
      "80:\tlearn: 0.3839383\ttest: 0.4315092\tbest: 0.4315092 (80)\ttotal: 681ms\tremaining: 7.73s\n",
      "81:\tlearn: 0.3834284\ttest: 0.4313764\tbest: 0.4313764 (81)\ttotal: 689ms\tremaining: 7.72s\n",
      "82:\tlearn: 0.3831187\ttest: 0.4314224\tbest: 0.4313764 (81)\ttotal: 699ms\tremaining: 7.72s\n",
      "83:\tlearn: 0.3828491\ttest: 0.4314699\tbest: 0.4313764 (81)\ttotal: 706ms\tremaining: 7.7s\n",
      "84:\tlearn: 0.3826684\ttest: 0.4314218\tbest: 0.4313764 (81)\ttotal: 713ms\tremaining: 7.68s\n",
      "85:\tlearn: 0.3826610\ttest: 0.4314223\tbest: 0.4313764 (81)\ttotal: 718ms\tremaining: 7.63s\n",
      "86:\tlearn: 0.3826595\ttest: 0.4314229\tbest: 0.4313764 (81)\ttotal: 721ms\tremaining: 7.56s\n",
      "87:\tlearn: 0.3825454\ttest: 0.4313066\tbest: 0.4313066 (87)\ttotal: 727ms\tremaining: 7.53s\n",
      "88:\tlearn: 0.3825453\ttest: 0.4313071\tbest: 0.4313066 (87)\ttotal: 730ms\tremaining: 7.47s\n",
      "89:\tlearn: 0.3823631\ttest: 0.4313484\tbest: 0.4313066 (87)\ttotal: 737ms\tremaining: 7.45s\n",
      "90:\tlearn: 0.3818969\ttest: 0.4313720\tbest: 0.4313066 (87)\ttotal: 744ms\tremaining: 7.43s\n",
      "91:\tlearn: 0.3816350\ttest: 0.4312736\tbest: 0.4312736 (91)\ttotal: 751ms\tremaining: 7.41s\n",
      "92:\tlearn: 0.3815247\ttest: 0.4311711\tbest: 0.4311711 (92)\ttotal: 754ms\tremaining: 7.36s\n"
     ]
    },
    {
     "name": "stdout",
     "output_type": "stream",
     "text": [
      "93:\tlearn: 0.3810221\ttest: 0.4311061\tbest: 0.4311061 (93)\ttotal: 764ms\tremaining: 7.37s\n",
      "94:\tlearn: 0.3808896\ttest: 0.4310361\tbest: 0.4310361 (94)\ttotal: 774ms\tremaining: 7.37s\n",
      "95:\tlearn: 0.3807719\ttest: 0.4309184\tbest: 0.4309184 (95)\ttotal: 779ms\tremaining: 7.34s\n",
      "96:\tlearn: 0.3804007\ttest: 0.4309406\tbest: 0.4309184 (95)\ttotal: 786ms\tremaining: 7.32s\n",
      "97:\tlearn: 0.3801396\ttest: 0.4310032\tbest: 0.4309184 (95)\ttotal: 794ms\tremaining: 7.31s\n",
      "98:\tlearn: 0.3800296\ttest: 0.4309892\tbest: 0.4309184 (95)\ttotal: 801ms\tremaining: 7.29s\n",
      "99:\tlearn: 0.3796581\ttest: 0.4308811\tbest: 0.4308811 (99)\ttotal: 808ms\tremaining: 7.27s\n",
      "100:\tlearn: 0.3795966\ttest: 0.4309280\tbest: 0.4308811 (99)\ttotal: 814ms\tremaining: 7.25s\n",
      "101:\tlearn: 0.3795731\ttest: 0.4309282\tbest: 0.4308811 (99)\ttotal: 817ms\tremaining: 7.19s\n",
      "102:\tlearn: 0.3788125\ttest: 0.4309011\tbest: 0.4308811 (99)\ttotal: 824ms\tremaining: 7.17s\n",
      "103:\tlearn: 0.3781764\ttest: 0.4311646\tbest: 0.4308811 (99)\ttotal: 831ms\tremaining: 7.16s\n",
      "104:\tlearn: 0.3780020\ttest: 0.4312031\tbest: 0.4308811 (99)\ttotal: 837ms\tremaining: 7.14s\n",
      "105:\tlearn: 0.3779639\ttest: 0.4311974\tbest: 0.4308811 (99)\ttotal: 843ms\tremaining: 7.11s\n",
      "106:\tlearn: 0.3779014\ttest: 0.4313094\tbest: 0.4308811 (99)\ttotal: 851ms\tremaining: 7.1s\n",
      "107:\tlearn: 0.3777000\ttest: 0.4313783\tbest: 0.4308811 (99)\ttotal: 859ms\tremaining: 7.1s\n",
      "108:\tlearn: 0.3769986\ttest: 0.4312366\tbest: 0.4308811 (99)\ttotal: 868ms\tremaining: 7.09s\n",
      "109:\tlearn: 0.3768333\ttest: 0.4312685\tbest: 0.4308811 (99)\ttotal: 876ms\tremaining: 7.09s\n",
      "110:\tlearn: 0.3766738\ttest: 0.4311760\tbest: 0.4308811 (99)\ttotal: 885ms\tremaining: 7.08s\n",
      "111:\tlearn: 0.3764723\ttest: 0.4311271\tbest: 0.4308811 (99)\ttotal: 895ms\tremaining: 7.09s\n",
      "112:\tlearn: 0.3764700\ttest: 0.4311267\tbest: 0.4308811 (99)\ttotal: 900ms\tremaining: 7.07s\n",
      "113:\tlearn: 0.3764670\ttest: 0.4311247\tbest: 0.4308811 (99)\ttotal: 904ms\tremaining: 7.03s\n",
      "114:\tlearn: 0.3761928\ttest: 0.4311609\tbest: 0.4308811 (99)\ttotal: 911ms\tremaining: 7.01s\n",
      "115:\tlearn: 0.3757244\ttest: 0.4311133\tbest: 0.4308811 (99)\ttotal: 921ms\tremaining: 7.02s\n",
      "116:\tlearn: 0.3752977\ttest: 0.4310763\tbest: 0.4308811 (99)\ttotal: 932ms\tremaining: 7.03s\n",
      "117:\tlearn: 0.3751846\ttest: 0.4311486\tbest: 0.4308811 (99)\ttotal: 945ms\tremaining: 7.06s\n",
      "118:\tlearn: 0.3748080\ttest: 0.4311504\tbest: 0.4308811 (99)\ttotal: 955ms\tremaining: 7.07s\n",
      "119:\tlearn: 0.3744975\ttest: 0.4312041\tbest: 0.4308811 (99)\ttotal: 965ms\tremaining: 7.07s\n",
      "120:\tlearn: 0.3744905\ttest: 0.4312020\tbest: 0.4308811 (99)\ttotal: 970ms\tremaining: 7.04s\n",
      "121:\tlearn: 0.3743323\ttest: 0.4310509\tbest: 0.4308811 (99)\ttotal: 981ms\tremaining: 7.06s\n",
      "122:\tlearn: 0.3742677\ttest: 0.4309921\tbest: 0.4308811 (99)\ttotal: 989ms\tremaining: 7.05s\n",
      "123:\tlearn: 0.3740547\ttest: 0.4309316\tbest: 0.4308811 (99)\ttotal: 997ms\tremaining: 7.04s\n",
      "124:\tlearn: 0.3739608\ttest: 0.4309363\tbest: 0.4308811 (99)\ttotal: 1s\tremaining: 7.04s\n",
      "125:\tlearn: 0.3739581\ttest: 0.4309355\tbest: 0.4308811 (99)\ttotal: 1.01s\tremaining: 7s\n",
      "126:\tlearn: 0.3737544\ttest: 0.4308374\tbest: 0.4308374 (126)\ttotal: 1.01s\tremaining: 6.98s\n",
      "127:\tlearn: 0.3734112\ttest: 0.4308727\tbest: 0.4308374 (126)\ttotal: 1.02s\tremaining: 6.96s\n",
      "128:\tlearn: 0.3732029\ttest: 0.4310432\tbest: 0.4308374 (126)\ttotal: 1.03s\tremaining: 6.94s\n",
      "129:\tlearn: 0.3727103\ttest: 0.4309008\tbest: 0.4308374 (126)\ttotal: 1.03s\tremaining: 6.93s\n",
      "130:\tlearn: 0.3725204\ttest: 0.4308798\tbest: 0.4308374 (126)\ttotal: 1.05s\tremaining: 6.94s\n",
      "131:\tlearn: 0.3722521\ttest: 0.4308402\tbest: 0.4308374 (126)\ttotal: 1.05s\tremaining: 6.94s\n",
      "132:\tlearn: 0.3721802\ttest: 0.4308238\tbest: 0.4308238 (132)\ttotal: 1.06s\tremaining: 6.94s\n",
      "133:\tlearn: 0.3718763\ttest: 0.4308042\tbest: 0.4308042 (133)\ttotal: 1.07s\tremaining: 6.93s\n",
      "134:\tlearn: 0.3716424\ttest: 0.4308280\tbest: 0.4308042 (133)\ttotal: 1.08s\tremaining: 6.92s\n",
      "135:\tlearn: 0.3715574\ttest: 0.4308434\tbest: 0.4308042 (133)\ttotal: 1.09s\tremaining: 6.91s\n",
      "136:\tlearn: 0.3713502\ttest: 0.4309619\tbest: 0.4308042 (133)\ttotal: 1.09s\tremaining: 6.89s\n",
      "137:\tlearn: 0.3710732\ttest: 0.4310153\tbest: 0.4308042 (133)\ttotal: 1.1s\tremaining: 6.88s\n",
      "138:\tlearn: 0.3707295\ttest: 0.4309216\tbest: 0.4308042 (133)\ttotal: 1.11s\tremaining: 6.86s\n",
      "139:\tlearn: 0.3704990\ttest: 0.4309552\tbest: 0.4308042 (133)\ttotal: 1.11s\tremaining: 6.84s\n",
      "140:\tlearn: 0.3702711\ttest: 0.4310360\tbest: 0.4308042 (133)\ttotal: 1.12s\tremaining: 6.83s\n",
      "141:\tlearn: 0.3700312\ttest: 0.4310940\tbest: 0.4308042 (133)\ttotal: 1.13s\tremaining: 6.81s\n",
      "142:\tlearn: 0.3700200\ttest: 0.4310862\tbest: 0.4308042 (133)\ttotal: 1.13s\tremaining: 6.8s\n",
      "143:\tlearn: 0.3699197\ttest: 0.4310637\tbest: 0.4308042 (133)\ttotal: 1.14s\tremaining: 6.8s\n",
      "144:\tlearn: 0.3698951\ttest: 0.4310384\tbest: 0.4308042 (133)\ttotal: 1.15s\tremaining: 6.77s\n",
      "145:\tlearn: 0.3697283\ttest: 0.4309484\tbest: 0.4308042 (133)\ttotal: 1.16s\tremaining: 6.77s\n",
      "146:\tlearn: 0.3695810\ttest: 0.4308784\tbest: 0.4308042 (133)\ttotal: 1.17s\tremaining: 6.77s\n",
      "147:\tlearn: 0.3694752\ttest: 0.4309316\tbest: 0.4308042 (133)\ttotal: 1.17s\tremaining: 6.76s\n",
      "148:\tlearn: 0.3690911\ttest: 0.4310512\tbest: 0.4308042 (133)\ttotal: 1.18s\tremaining: 6.76s\n",
      "149:\tlearn: 0.3689283\ttest: 0.4311247\tbest: 0.4308042 (133)\ttotal: 1.19s\tremaining: 6.74s\n",
      "150:\tlearn: 0.3685591\ttest: 0.4309496\tbest: 0.4308042 (133)\ttotal: 1.2s\tremaining: 6.73s\n",
      "151:\tlearn: 0.3682935\ttest: 0.4308262\tbest: 0.4308042 (133)\ttotal: 1.2s\tremaining: 6.71s\n",
      "152:\tlearn: 0.3678808\ttest: 0.4308293\tbest: 0.4308042 (133)\ttotal: 1.21s\tremaining: 6.71s\n",
      "153:\tlearn: 0.3677668\ttest: 0.4308296\tbest: 0.4308042 (133)\ttotal: 1.22s\tremaining: 6.69s\n",
      "154:\tlearn: 0.3675620\ttest: 0.4308079\tbest: 0.4308042 (133)\ttotal: 1.22s\tremaining: 6.67s\n",
      "155:\tlearn: 0.3674456\ttest: 0.4308480\tbest: 0.4308042 (133)\ttotal: 1.23s\tremaining: 6.66s\n",
      "156:\tlearn: 0.3672783\ttest: 0.4308532\tbest: 0.4308042 (133)\ttotal: 1.24s\tremaining: 6.67s\n",
      "157:\tlearn: 0.3671245\ttest: 0.4308517\tbest: 0.4308042 (133)\ttotal: 1.25s\tremaining: 6.67s\n",
      "158:\tlearn: 0.3668378\ttest: 0.4307471\tbest: 0.4307471 (158)\ttotal: 1.26s\tremaining: 6.66s\n",
      "159:\tlearn: 0.3667024\ttest: 0.4307508\tbest: 0.4307471 (158)\ttotal: 1.26s\tremaining: 6.64s\n",
      "160:\tlearn: 0.3666854\ttest: 0.4307474\tbest: 0.4307471 (158)\ttotal: 1.27s\tremaining: 6.61s\n",
      "161:\tlearn: 0.3664122\ttest: 0.4305645\tbest: 0.4305645 (161)\ttotal: 1.27s\tremaining: 6.6s\n",
      "162:\tlearn: 0.3660058\ttest: 0.4305724\tbest: 0.4305645 (161)\ttotal: 1.28s\tremaining: 6.58s\n",
      "163:\tlearn: 0.3657957\ttest: 0.4305916\tbest: 0.4305645 (161)\ttotal: 1.29s\tremaining: 6.57s\n",
      "164:\tlearn: 0.3655673\ttest: 0.4306044\tbest: 0.4305645 (161)\ttotal: 1.3s\tremaining: 6.58s\n",
      "165:\tlearn: 0.3654319\ttest: 0.4305496\tbest: 0.4305496 (165)\ttotal: 1.31s\tremaining: 6.57s\n",
      "166:\tlearn: 0.3654225\ttest: 0.4305480\tbest: 0.4305480 (166)\ttotal: 1.31s\tremaining: 6.54s\n",
      "167:\tlearn: 0.3654224\ttest: 0.4305469\tbest: 0.4305469 (167)\ttotal: 1.31s\tremaining: 6.51s\n",
      "168:\tlearn: 0.3653695\ttest: 0.4305460\tbest: 0.4305460 (168)\ttotal: 1.32s\tremaining: 6.49s\n",
      "169:\tlearn: 0.3650135\ttest: 0.4306876\tbest: 0.4305460 (168)\ttotal: 1.32s\tremaining: 6.47s\n",
      "170:\tlearn: 0.3649089\ttest: 0.4307112\tbest: 0.4305460 (168)\ttotal: 1.33s\tremaining: 6.45s\n",
      "171:\tlearn: 0.3646988\ttest: 0.4305809\tbest: 0.4305460 (168)\ttotal: 1.34s\tremaining: 6.44s\n",
      "172:\tlearn: 0.3644863\ttest: 0.4306822\tbest: 0.4305460 (168)\ttotal: 1.34s\tremaining: 6.42s\n",
      "173:\tlearn: 0.3643420\ttest: 0.4307046\tbest: 0.4305460 (168)\ttotal: 1.35s\tremaining: 6.41s\n",
      "174:\tlearn: 0.3639998\ttest: 0.4304504\tbest: 0.4304504 (174)\ttotal: 1.36s\tremaining: 6.4s\n",
      "175:\tlearn: 0.3637941\ttest: 0.4304317\tbest: 0.4304317 (175)\ttotal: 1.37s\tremaining: 6.4s\n",
      "176:\tlearn: 0.3631972\ttest: 0.4304471\tbest: 0.4304317 (175)\ttotal: 1.38s\tremaining: 6.41s\n",
      "177:\tlearn: 0.3629641\ttest: 0.4304443\tbest: 0.4304317 (175)\ttotal: 1.39s\tremaining: 6.4s\n",
      "178:\tlearn: 0.3623778\ttest: 0.4304797\tbest: 0.4304317 (175)\ttotal: 1.39s\tremaining: 6.38s\n",
      "179:\tlearn: 0.3621823\ttest: 0.4304527\tbest: 0.4304317 (175)\ttotal: 1.4s\tremaining: 6.37s\n",
      "180:\tlearn: 0.3620801\ttest: 0.4304510\tbest: 0.4304317 (175)\ttotal: 1.41s\tremaining: 6.36s\n",
      "181:\tlearn: 0.3620194\ttest: 0.4304466\tbest: 0.4304317 (175)\ttotal: 1.41s\tremaining: 6.35s\n",
      "182:\tlearn: 0.3615495\ttest: 0.4304174\tbest: 0.4304174 (182)\ttotal: 1.42s\tremaining: 6.36s\n",
      "183:\tlearn: 0.3612536\ttest: 0.4305879\tbest: 0.4304174 (182)\ttotal: 1.43s\tremaining: 6.35s\n",
      "184:\tlearn: 0.3609954\ttest: 0.4304177\tbest: 0.4304174 (182)\ttotal: 1.44s\tremaining: 6.35s\n",
      "185:\tlearn: 0.3607192\ttest: 0.4303175\tbest: 0.4303175 (185)\ttotal: 1.45s\tremaining: 6.34s\n",
      "186:\tlearn: 0.3606622\ttest: 0.4302993\tbest: 0.4302993 (186)\ttotal: 1.46s\tremaining: 6.33s\n",
      "187:\tlearn: 0.3606620\ttest: 0.4302981\tbest: 0.4302981 (187)\ttotal: 1.46s\tremaining: 6.3s\n",
      "188:\tlearn: 0.3604074\ttest: 0.4303404\tbest: 0.4302981 (187)\ttotal: 1.46s\tremaining: 6.29s\n",
      "189:\tlearn: 0.3600939\ttest: 0.4303597\tbest: 0.4302981 (187)\ttotal: 1.47s\tremaining: 6.27s\n",
      "190:\tlearn: 0.3596422\ttest: 0.4305436\tbest: 0.4302981 (187)\ttotal: 1.48s\tremaining: 6.26s\n",
      "191:\tlearn: 0.3596231\ttest: 0.4305487\tbest: 0.4302981 (187)\ttotal: 1.49s\tremaining: 6.25s\n",
      "192:\tlearn: 0.3595970\ttest: 0.4305992\tbest: 0.4302981 (187)\ttotal: 1.49s\tremaining: 6.23s\n",
      "193:\tlearn: 0.3594147\ttest: 0.4305555\tbest: 0.4302981 (187)\ttotal: 1.5s\tremaining: 6.22s\n",
      "194:\tlearn: 0.3592483\ttest: 0.4306177\tbest: 0.4302981 (187)\ttotal: 1.5s\tremaining: 6.21s\n",
      "195:\tlearn: 0.3587752\ttest: 0.4304938\tbest: 0.4302981 (187)\ttotal: 1.51s\tremaining: 6.2s\n",
      "196:\tlearn: 0.3585672\ttest: 0.4303855\tbest: 0.4302981 (187)\ttotal: 1.52s\tremaining: 6.2s\n",
      "197:\tlearn: 0.3582938\ttest: 0.4305012\tbest: 0.4302981 (187)\ttotal: 1.53s\tremaining: 6.19s\n",
      "198:\tlearn: 0.3580638\ttest: 0.4305077\tbest: 0.4302981 (187)\ttotal: 1.53s\tremaining: 6.18s\n",
      "199:\tlearn: 0.3576811\ttest: 0.4302998\tbest: 0.4302981 (187)\ttotal: 1.54s\tremaining: 6.17s\n",
      "200:\tlearn: 0.3573038\ttest: 0.4304138\tbest: 0.4302981 (187)\ttotal: 1.55s\tremaining: 6.16s\n",
      "201:\tlearn: 0.3568908\ttest: 0.4305462\tbest: 0.4302981 (187)\ttotal: 1.56s\tremaining: 6.15s\n"
     ]
    },
    {
     "name": "stdout",
     "output_type": "stream",
     "text": [
      "202:\tlearn: 0.3563671\ttest: 0.4303855\tbest: 0.4302981 (187)\ttotal: 1.57s\tremaining: 6.15s\n",
      "203:\tlearn: 0.3561576\ttest: 0.4304036\tbest: 0.4302981 (187)\ttotal: 1.58s\tremaining: 6.16s\n",
      "204:\tlearn: 0.3557745\ttest: 0.4304189\tbest: 0.4302981 (187)\ttotal: 1.58s\tremaining: 6.15s\n",
      "205:\tlearn: 0.3556100\ttest: 0.4304100\tbest: 0.4302981 (187)\ttotal: 1.6s\tremaining: 6.15s\n",
      "206:\tlearn: 0.3555110\ttest: 0.4303199\tbest: 0.4302981 (187)\ttotal: 1.6s\tremaining: 6.15s\n",
      "207:\tlearn: 0.3551707\ttest: 0.4304516\tbest: 0.4302981 (187)\ttotal: 1.61s\tremaining: 6.14s\n",
      "208:\tlearn: 0.3551559\ttest: 0.4304470\tbest: 0.4302981 (187)\ttotal: 1.62s\tremaining: 6.14s\n",
      "209:\tlearn: 0.3550387\ttest: 0.4304535\tbest: 0.4302981 (187)\ttotal: 1.63s\tremaining: 6.13s\n",
      "210:\tlearn: 0.3547666\ttest: 0.4304709\tbest: 0.4302981 (187)\ttotal: 1.64s\tremaining: 6.11s\n",
      "211:\tlearn: 0.3547401\ttest: 0.4304789\tbest: 0.4302981 (187)\ttotal: 1.64s\tremaining: 6.11s\n",
      "212:\tlearn: 0.3545400\ttest: 0.4304735\tbest: 0.4302981 (187)\ttotal: 1.65s\tremaining: 6.1s\n",
      "213:\tlearn: 0.3542827\ttest: 0.4304992\tbest: 0.4302981 (187)\ttotal: 1.66s\tremaining: 6.09s\n",
      "214:\tlearn: 0.3541984\ttest: 0.4304466\tbest: 0.4302981 (187)\ttotal: 1.67s\tremaining: 6.08s\n",
      "215:\tlearn: 0.3538321\ttest: 0.4306438\tbest: 0.4302981 (187)\ttotal: 1.67s\tremaining: 6.07s\n",
      "216:\tlearn: 0.3535136\ttest: 0.4307088\tbest: 0.4302981 (187)\ttotal: 1.68s\tremaining: 6.07s\n",
      "217:\tlearn: 0.3534057\ttest: 0.4306138\tbest: 0.4302981 (187)\ttotal: 1.69s\tremaining: 6.06s\n",
      "218:\tlearn: 0.3529951\ttest: 0.4306830\tbest: 0.4302981 (187)\ttotal: 1.7s\tremaining: 6.05s\n",
      "219:\tlearn: 0.3527083\ttest: 0.4308348\tbest: 0.4302981 (187)\ttotal: 1.7s\tremaining: 6.04s\n",
      "220:\tlearn: 0.3525902\ttest: 0.4307560\tbest: 0.4302981 (187)\ttotal: 1.71s\tremaining: 6.03s\n",
      "221:\tlearn: 0.3524279\ttest: 0.4306689\tbest: 0.4302981 (187)\ttotal: 1.72s\tremaining: 6.02s\n",
      "222:\tlearn: 0.3521706\ttest: 0.4308880\tbest: 0.4302981 (187)\ttotal: 1.73s\tremaining: 6.02s\n",
      "223:\tlearn: 0.3519497\ttest: 0.4307127\tbest: 0.4302981 (187)\ttotal: 1.74s\tremaining: 6.01s\n",
      "224:\tlearn: 0.3517322\ttest: 0.4306956\tbest: 0.4302981 (187)\ttotal: 1.74s\tremaining: 6.01s\n",
      "225:\tlearn: 0.3515809\ttest: 0.4307059\tbest: 0.4302981 (187)\ttotal: 1.75s\tremaining: 6s\n",
      "226:\tlearn: 0.3513996\ttest: 0.4305315\tbest: 0.4302981 (187)\ttotal: 1.76s\tremaining: 5.99s\n",
      "227:\tlearn: 0.3510195\ttest: 0.4306659\tbest: 0.4302981 (187)\ttotal: 1.77s\tremaining: 5.99s\n",
      "228:\tlearn: 0.3507901\ttest: 0.4308238\tbest: 0.4302981 (187)\ttotal: 1.78s\tremaining: 5.99s\n",
      "229:\tlearn: 0.3505612\ttest: 0.4310113\tbest: 0.4302981 (187)\ttotal: 1.79s\tremaining: 5.99s\n",
      "230:\tlearn: 0.3502452\ttest: 0.4310586\tbest: 0.4302981 (187)\ttotal: 1.8s\tremaining: 5.98s\n",
      "231:\tlearn: 0.3501069\ttest: 0.4310762\tbest: 0.4302981 (187)\ttotal: 1.8s\tremaining: 5.97s\n",
      "232:\tlearn: 0.3496632\ttest: 0.4310604\tbest: 0.4302981 (187)\ttotal: 1.81s\tremaining: 5.96s\n",
      "233:\tlearn: 0.3491487\ttest: 0.4312394\tbest: 0.4302981 (187)\ttotal: 1.82s\tremaining: 5.95s\n",
      "234:\tlearn: 0.3489575\ttest: 0.4312992\tbest: 0.4302981 (187)\ttotal: 1.82s\tremaining: 5.94s\n",
      "235:\tlearn: 0.3486815\ttest: 0.4314830\tbest: 0.4302981 (187)\ttotal: 1.83s\tremaining: 5.93s\n",
      "236:\tlearn: 0.3484573\ttest: 0.4315599\tbest: 0.4302981 (187)\ttotal: 1.84s\tremaining: 5.92s\n",
      "237:\tlearn: 0.3481064\ttest: 0.4316306\tbest: 0.4302981 (187)\ttotal: 1.85s\tremaining: 5.91s\n",
      "Stopped by overfitting detector  (50 iterations wait)\n",
      "\n",
      "bestTest = 0.430298102\n",
      "bestIteration = 187\n",
      "\n",
      "Shrink model to first 188 iterations.\n",
      "Best score: 0.8312538672527959\n",
      "Best parameters: {'learning_rate': 0.03, 'n_estimators': 300}\n"
     ]
    }
   ],
   "source": [
    "from catboost import CatBoostClassifier, Pool\n",
    "from sklearn.metrics import roc_auc_score\n",
    "\n",
    "X_train, X_valid, y_train, y_valid = train_test_split(data.drop(target_col, axis=1), data[target_col], test_size=0.2, \\\n",
    "                                                      random_state=42)\n",
    "\n",
    "train_pool = Pool(X_train, label=y_train, cat_features=cat_cols)\n",
    "valid_pool = Pool(X_valid, label=y_valid, cat_features=cat_cols)\n",
    "\n",
    "model = CatBoostClassifier()\n",
    "\n",
    "model.fit(train_pool, eval_set=valid_pool, early_stopping_rounds=50)\n",
    "preds = model.predict_proba(X_valid)[:,1]\n",
    "best_score = roc_auc_score(y_valid, preds)\n",
    "\n",
    "learning_rates = np.arange(0.01, 0.2, 0.01)\n",
    "n_estimators = np.arange(100, 310, 10)\n",
    "best_params = {}\n",
    "for lr in learning_rates:\n",
    "    for n in n_estimators:\n",
    "        model = CatBoostClassifier(learning_rate=lr, n_estimators=n)\n",
    "        model.fit(train_pool, eval_set=valid_pool, early_stopping_rounds=50, verbose=False)\n",
    "        preds = model.predict_proba(X_valid)[:,1]\n",
    "        score = roc_auc_score(y_valid, preds)\n",
    "\n",
    "        if score > best_score:\n",
    "            best_score = score\n",
    "            best_params['learning_rate'] = lr\n",
    "            best_params['n_estimators'] = n\n",
    "\n",
    "print(f\"Best score: {best_score}\\nBest parameters: {best_params}\")"
   ]
  },
  {
   "cell_type": "markdown",
   "metadata": {
    "id": "rf4Kjt96EEZU"
   },
   "source": [
    "Выпишите, какое лучшее качество и с какими параметрами вам удалось получить"
   ]
  },
  {
   "cell_type": "markdown",
   "metadata": {
    "id": "d2d9GolXEEZV"
   },
   "source": [
    "<b>Best score:</b> 0.8312538672527959\n",
    "\n",
    "<b>Best parameters:</b> {'learning_rate': 0.03, 'n_estimators': 300}"
   ]
  },
  {
   "cell_type": "markdown",
   "metadata": {
    "id": "dDMXbvNZEEZV"
   },
   "source": [
    "# Предсказания"
   ]
  },
  {
   "cell_type": "code",
   "execution_count": 234,
   "metadata": {
    "id": "G_P4wFNaEEZW",
    "outputId": "1fba5dfc-88e4-49e3-ed8a-afe21ae3325a"
   },
   "outputs": [],
   "source": [
    "best_model = CatBoostClassifier(learning_rate=0.03, n_estimators=300)"
   ]
  },
  {
   "cell_type": "code",
   "execution_count": 236,
   "metadata": {
    "id": "FfSufx0CEEZZ"
   },
   "outputs": [
    {
     "data": {
      "text/html": [
       "<div>\n",
       "<style scoped>\n",
       "    .dataframe tbody tr th:only-of-type {\n",
       "        vertical-align: middle;\n",
       "    }\n",
       "\n",
       "    .dataframe tbody tr th {\n",
       "        vertical-align: top;\n",
       "    }\n",
       "\n",
       "    .dataframe thead th {\n",
       "        text-align: right;\n",
       "    }\n",
       "</style>\n",
       "<table border=\"1\" class=\"dataframe\">\n",
       "  <thead>\n",
       "    <tr style=\"text-align: right;\">\n",
       "      <th></th>\n",
       "      <th>Id</th>\n",
       "      <th>Churn</th>\n",
       "    </tr>\n",
       "  </thead>\n",
       "  <tbody>\n",
       "    <tr>\n",
       "      <th>0</th>\n",
       "      <td>0</td>\n",
       "      <td>0.045838</td>\n",
       "    </tr>\n",
       "    <tr>\n",
       "      <th>1</th>\n",
       "      <td>1</td>\n",
       "      <td>0.716621</td>\n",
       "    </tr>\n",
       "    <tr>\n",
       "      <th>2</th>\n",
       "      <td>2</td>\n",
       "      <td>0.681518</td>\n",
       "    </tr>\n",
       "    <tr>\n",
       "      <th>3</th>\n",
       "      <td>3</td>\n",
       "      <td>0.019401</td>\n",
       "    </tr>\n",
       "    <tr>\n",
       "      <th>4</th>\n",
       "      <td>4</td>\n",
       "      <td>0.004179</td>\n",
       "    </tr>\n",
       "    <tr>\n",
       "      <th>...</th>\n",
       "      <td>...</td>\n",
       "      <td>...</td>\n",
       "    </tr>\n",
       "    <tr>\n",
       "      <th>1756</th>\n",
       "      <td>1756</td>\n",
       "      <td>0.113233</td>\n",
       "    </tr>\n",
       "    <tr>\n",
       "      <th>1757</th>\n",
       "      <td>1757</td>\n",
       "      <td>0.008632</td>\n",
       "    </tr>\n",
       "    <tr>\n",
       "      <th>1758</th>\n",
       "      <td>1758</td>\n",
       "      <td>0.837779</td>\n",
       "    </tr>\n",
       "    <tr>\n",
       "      <th>1759</th>\n",
       "      <td>1759</td>\n",
       "      <td>0.611385</td>\n",
       "    </tr>\n",
       "    <tr>\n",
       "      <th>1760</th>\n",
       "      <td>1760</td>\n",
       "      <td>0.008942</td>\n",
       "    </tr>\n",
       "  </tbody>\n",
       "</table>\n",
       "<p>1761 rows × 2 columns</p>\n",
       "</div>"
      ],
      "text/plain": [
       "        Id     Churn\n",
       "0        0  0.045838\n",
       "1        1  0.716621\n",
       "2        2  0.681518\n",
       "3        3  0.019401\n",
       "4        4  0.004179\n",
       "...    ...       ...\n",
       "1756  1756  0.113233\n",
       "1757  1757  0.008632\n",
       "1758  1758  0.837779\n",
       "1759  1759  0.611385\n",
       "1760  1760  0.008942\n",
       "\n",
       "[1761 rows x 2 columns]"
      ]
     },
     "execution_count": 236,
     "metadata": {},
     "output_type": "execute_result"
    }
   ],
   "source": [
    "X_test = pd.read_csv('./test.csv')\n",
    "submission = pd.read_csv('./submission.csv')\n",
    "\n",
    "\n",
    "# best_model.predict_proba(X_test) / best_model.predict(X_test)\n",
    "best_model.fit(train_pool, eval_set=valid_pool, early_stopping_rounds=50, verbose=False)\n",
    "submission['Churn'] = 1 - best_model.predict_proba(X_test)\n",
    "submission.to_csv('./my_submission.csv', index=False)\n",
    "submission"
   ]
  },
  {
   "cell_type": "markdown",
   "metadata": {
    "id": "tzGirrp5l2I-"
   },
   "source": [
    "Лучшее решение отправьте в Stepik."
   ]
  },
  {
   "cell_type": "markdown",
   "metadata": {
    "id": "eoNce9Yu0OM5"
   },
   "source": [
    "<b>Kaggle:</b> 0.85219"
   ]
  }
 ],
 "metadata": {
  "colab": {
   "authorship_tag": "ABX9TyNLhaHLxDgfaE0WjMnuolO1",
   "provenance": []
  },
  "kernelspec": {
   "display_name": "Python 3",
   "language": "python",
   "name": "python3"
  },
  "language_info": {
   "codemirror_mode": {
    "name": "ipython",
    "version": 3
   },
   "file_extension": ".py",
   "mimetype": "text/x-python",
   "name": "python",
   "nbconvert_exporter": "python",
   "pygments_lexer": "ipython3",
   "version": "3.7.6"
  }
 },
 "nbformat": 4,
 "nbformat_minor": 1
}
